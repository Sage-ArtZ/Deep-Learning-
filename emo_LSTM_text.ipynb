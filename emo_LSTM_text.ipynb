{
  "nbformat": 4,
  "nbformat_minor": 0,
  "metadata": {
    "kernelspec": {
      "display_name": "Python 3",
      "language": "python",
      "name": "python3"
    },
    "language_info": {
      "codemirror_mode": {
        "name": "ipython",
        "version": 3
      },
      "file_extension": ".py",
      "mimetype": "text/x-python",
      "name": "python",
      "nbconvert_exporter": "python",
      "pygments_lexer": "ipython3",
      "version": "3.8.3"
    },
    "colab": {
      "name": "emo_LSTM_text.ipynb",
      "provenance": [],
      "include_colab_link": true
    },
    "accelerator": "GPU"
  },
  "cells": [
    {
      "cell_type": "markdown",
      "metadata": {
        "id": "view-in-github",
        "colab_type": "text"
      },
      "source": [
        "<a href=\"https://colab.research.google.com/github/Sage-ArtZ/Deep-Learning-/blob/master/emo_LSTM_text.ipynb\" target=\"_parent\"><img src=\"https://colab.research.google.com/assets/colab-badge.svg\" alt=\"Open In Colab\"/></a>"
      ]
    },
    {
      "cell_type": "code",
      "metadata": {
        "colab": {
          "resources": {
            "http://localhost:8080/nbextensions/google.colab/files.js": {
              "data": "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",
              "ok": true,
              "headers": [
                [
                  "content-type",
                  "application/javascript"
                ]
              ],
              "status": 200,
              "status_text": ""
            }
          },
          "base_uri": "https://localhost:8080/",
          "height": 140
        },
        "id": "ro9E9oDfJCh8",
        "outputId": "f317f681-7fde-4d9b-e66d-ce82fbffa89a"
      },
      "source": [
        "import numpy as np\n",
        "import pandas as pd\n",
        "import seaborn as sns\n",
        "from google.colab import files\n",
        "uploaded = files.upload()"
      ],
      "execution_count": 1,
      "outputs": [
        {
          "output_type": "display_data",
          "data": {
            "text/html": [
              "\n",
              "     <input type=\"file\" id=\"files-3db1f678-3ea8-4e47-80d2-0dc5752bbbce\" name=\"files[]\" multiple disabled\n",
              "        style=\"border:none\" />\n",
              "     <output id=\"result-3db1f678-3ea8-4e47-80d2-0dc5752bbbce\">\n",
              "      Upload widget is only available when the cell has been executed in the\n",
              "      current browser session. Please rerun this cell to enable.\n",
              "      </output>\n",
              "      <script src=\"/nbextensions/google.colab/files.js\"></script> "
            ],
            "text/plain": [
              "<IPython.core.display.HTML object>"
            ]
          },
          "metadata": {
            "tags": []
          }
        },
        {
          "output_type": "stream",
          "text": [
            "Saving val.txt to val.txt\n",
            "Saving train.txt to train.txt\n",
            "Saving test.txt to test.txt\n"
          ],
          "name": "stdout"
        }
      ]
    },
    {
      "cell_type": "code",
      "metadata": {
        "id": "sJpR1g06JCiI"
      },
      "source": [
        "data_train = pd.read_csv('train.txt', header =None, sep =';', names = ['Input','Sentiment'], encoding='utf-8')\n",
        "data_test = pd.read_csv('test.txt', header = None, sep =';', names = ['Input','Sentiment'],encoding='utf-8')\n",
        "data_val=pd.read_csv('val.txt',header=None,sep=';',names=['Input','Sentiment'],encoding='utf-8')"
      ],
      "execution_count": 2,
      "outputs": []
    },
   ,
    {
      "cell_type": "code",
      "metadata": {
        "colab": {
          "base_uri": "https://localhost:8080/",
          "height": 350
        },
        "id": "ySCoFWn_JCiL",
        "outputId": "095b3965-89f6-4370-f714-c5b1e1a2c042"
      },
      "source": [
        "sns.countplot(data_train.Sentiment)"
      ],
      "execution_count": 4,
      "outputs": [
        {
          "output_type": "stream",
          "text": [
            "/usr/local/lib/python3.7/dist-packages/seaborn/_decorators.py:43: FutureWarning: Pass the following variable as a keyword arg: x. From version 0.12, the only valid positional argument will be `data`, and passing other arguments without an explicit keyword will result in an error or misinterpretation.\n",
            "  FutureWarning\n"
          ],
          "name": "stderr"
        },
        {
          "output_type": "execute_result",
          "data": {
            "text/plain": [
              "<matplotlib.axes._subplots.AxesSubplot at 0x7fd6fed34fd0>"
            ]
          },
          "metadata": {
            "tags": []
          },
          "execution_count": 4
        },
        {
          "output_type": "display_data",
          "data": {
            "image/png": "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\n",
            "text/plain": [
              "<Figure size 432x288 with 1 Axes>"
            ]
          },
          "metadata": {
            "tags": [],
            "needs_background": "light"
          }
        }
      ]
    },
    {
      "cell_type": "markdown",
      "metadata": {
        "id": "qgNqEHVxJCiM"
      },
      "source": [
        "# Text Preprocessing"
      ]
    },
    {
      "cell_type": "markdown",
      "metadata": {
        "id": "H2tx--XvJCiM"
      },
      "source": [
        "**Noramalize case of text**"
      ]
    },
    {
      "cell_type": "code",
      "metadata": {
        "id": "vJARauhZJCiN"
      },
      "source": [
        "data_train['Input'] = data_train['Input'].apply(lambda x:str(x).lower())"
      ],
      "execution_count": 5,
      "outputs": []
    },
    {
      "cell_type": "markdown",
      "metadata": {
        "id": "-yPVOaVqJCiN"
      },
      "source": [
        "**remove Emails**"
      ]
    },
    {
      "cell_type": "code",
      "metadata": {
        "id": "HYfEwX1pJCiO"
      },
      "source": [
        "import re\n",
        "pattern = re.compile('\\S*@\\S*\\s?')\n",
        "data_train['Input'] = data_train['Input'].apply(lambda x:pattern.sub('',x))"
      ],
      "execution_count": 6,
      "outputs": []
    },
    {
      "cell_type": "markdown",
      "metadata": {
        "id": "J9aL0ueXJCiP"
      },
      "source": [
        "**Remove Punctuations**"
      ]
    },
    {
      "cell_type": "code",
      "metadata": {
        "id": "N9gO6as-JCiP"
      },
      "source": [
        "import string\n",
        "data_train['Input'] = data_train['Input'].apply(lambda x:\"\".join([char for char in x if char not in string.punctuation]))"
      ],
      "execution_count": 7,
      "outputs": []
    },
    {
      "cell_type": "markdown",
      "metadata": {
        "id": "nfSxnyHTJCiQ"
      },
      "source": [
        "**Stemming**"
      ]
    },
    {
      "cell_type": "code",
      "metadata": {
        "colab": {
          "base_uri": "https://localhost:8080/"
        },
        "id": "AYMZyvwwJCiR",
        "outputId": "0b88f6e4-4c23-4f6b-a011-78bfaae5569a"
      },
      "source": [
        "!pip install git+https://github.com/laxmimerit/preprocess_kgptalkie.git --upgrade --force-reinstall"
      ],
      "execution_count": 8,
      "outputs": [
        {
          "output_type": "stream",
          "text": [
            "Collecting git+https://github.com/laxmimerit/preprocess_kgptalkie.git\n",
            "  Cloning https://github.com/laxmimerit/preprocess_kgptalkie.git to /tmp/pip-req-build-pncsz3fb\n",
            "  Running command git clone -q https://github.com/laxmimerit/preprocess_kgptalkie.git /tmp/pip-req-build-pncsz3fb\n",
            "Building wheels for collected packages: preprocess-kgptalkie\n",
            "  Building wheel for preprocess-kgptalkie (setup.py) ... \u001b[?25l\u001b[?25hdone\n",
            "  Created wheel for preprocess-kgptalkie: filename=preprocess_kgptalkie-0.1.3-cp37-none-any.whl size=11743 sha256=c9cb10b94db92f5144f2225844a7e578ffc3a40d5bdf12ae8e504028f2bf3528\n",
            "  Stored in directory: /tmp/pip-ephem-wheel-cache-ae57l2xj/wheels/a8/18/22/90afa4bd43247fb9a75b710a4a3fcd94966c022ce9e3c7d0a6\n",
            "Successfully built preprocess-kgptalkie\n",
            "Installing collected packages: preprocess-kgptalkie\n",
            "Successfully installed preprocess-kgptalkie-0.1.3\n"
          ],
          "name": "stdout"
        }
      ]
    },
    {
      "cell_type": "code",
      "metadata": {
        "id": "s8rpJU0ZJCiR"
      },
      "source": [
        "import preprocess_kgptalkie as ps"
      ],
      "execution_count": 9,
      "outputs": []
    },
    {
      "cell_type": "code",
      "metadata": {
        "id": "zAyvTHTZJCiR"
      },
      "source": [
        "data_train['Input'] = data_train['Input'].apply(lambda x:ps.make_base(x))"
      ],
      "execution_count": 10,
      "outputs": []
    },
    {
      "cell_type": "code",
      "metadata": {
        "id": "2hV-AGS8JCiS"
      },
      "source": [
        "data_train['Input'] = data_train['Input'].apply(lambda x:ps.cont_exp(x))\n"
      ],
      "execution_count": 11,
      "outputs": []
    },
    {
      "cell_type": "markdown",
      "metadata": {
        "id": "JDzLu9q3JCiS"
      },
      "source": [
        "**Label Encoding**"
      ]
    },
    {
      "cell_type": "code",
      "metadata": {
        "id": "KpZtEzfZJCiT"
      },
      "source": [
        "np.unique(data_train['Sentiment'])\n",
        "data_train['Sentiment']=data_train.Sentiment.replace({'joy':0,'anger':1,'love':2,'sadness':3,'fear':4,'surprise':5})\n",
        "data_test['Sentiment']=data_test.Sentiment.replace({'joy':0,'anger':1,'love':2,'sadness':3,'fear':4,'surprise':5})\n",
        "data_val['Sentiment']=data_val.Sentiment.replace({'joy':0,'anger':1,'love':2,'sadness':3,'fear':4,'surprise':5})"
      ],
      "execution_count": 12,
      "outputs": []
    },
    {
      "cell_type": "code",
      "metadata": {
        "colab": {
          "base_uri": "https://localhost:8080/",
          "height": 419
        },
        "id": "7BEdmEEpJCiT",
        "outputId": "12c4c163-98ef-4745-8c34-007ac1f140f7"
      },
      "source": [
        "data_train"
      ],
      "execution_count": 13,
      "outputs": [
        {
          "output_type": "execute_result",
          "data": {
            "text/html": [
              "<div>\n",
              "<style scoped>\n",
              "    .dataframe tbody tr th:only-of-type {\n",
              "        vertical-align: middle;\n",
              "    }\n",
              "\n",
              "    .dataframe tbody tr th {\n",
              "        vertical-align: top;\n",
              "    }\n",
              "\n",
              "    .dataframe thead th {\n",
              "        text-align: right;\n",
              "    }\n",
              "</style>\n",
              "<table border=\"1\" class=\"dataframe\">\n",
              "  <thead>\n",
              "    <tr style=\"text-align: right;\">\n",
              "      <th></th>\n",
              "      <th>Input</th>\n",
              "      <th>Sentiment</th>\n",
              "    </tr>\n",
              "  </thead>\n",
              "  <tbody>\n",
              "    <tr>\n",
              "      <th>0</th>\n",
              "      <td>i do not feel humiliate</td>\n",
              "      <td>3</td>\n",
              "    </tr>\n",
              "    <tr>\n",
              "      <th>1</th>\n",
              "      <td>i can go from feel so hopeless to so damned ho...</td>\n",
              "      <td>3</td>\n",
              "    </tr>\n",
              "    <tr>\n",
              "      <th>2</th>\n",
              "      <td>i m grab a minute to post i feel greedy wrong</td>\n",
              "      <td>1</td>\n",
              "    </tr>\n",
              "    <tr>\n",
              "      <th>3</th>\n",
              "      <td>i am ever feel nostalgic about the fireplace i...</td>\n",
              "      <td>2</td>\n",
              "    </tr>\n",
              "    <tr>\n",
              "      <th>4</th>\n",
              "      <td>i am feel grouchy</td>\n",
              "      <td>1</td>\n",
              "    </tr>\n",
              "    <tr>\n",
              "      <th>...</th>\n",
              "      <td>...</td>\n",
              "      <td>...</td>\n",
              "    </tr>\n",
              "    <tr>\n",
              "      <th>15995</th>\n",
              "      <td>i just have a very brief time in the beanbag a...</td>\n",
              "      <td>3</td>\n",
              "    </tr>\n",
              "    <tr>\n",
              "      <th>15996</th>\n",
              "      <td>i am now turn and i feel pathetic that i am st...</td>\n",
              "      <td>3</td>\n",
              "    </tr>\n",
              "    <tr>\n",
              "      <th>15997</th>\n",
              "      <td>i feel strong and good overall</td>\n",
              "      <td>0</td>\n",
              "    </tr>\n",
              "    <tr>\n",
              "      <th>15998</th>\n",
              "      <td>i feel like this was such a rude comment and i...</td>\n",
              "      <td>1</td>\n",
              "    </tr>\n",
              "    <tr>\n",
              "      <th>15999</th>\n",
              "      <td>i know a lot but i feel so stupid because i ca...</td>\n",
              "      <td>3</td>\n",
              "    </tr>\n",
              "  </tbody>\n",
              "</table>\n",
              "<p>16000 rows × 2 columns</p>\n",
              "</div>"
            ],
            "text/plain": [
              "                                                   Input  Sentiment\n",
              "0                                i do not feel humiliate          3\n",
              "1      i can go from feel so hopeless to so damned ho...          3\n",
              "2          i m grab a minute to post i feel greedy wrong          1\n",
              "3      i am ever feel nostalgic about the fireplace i...          2\n",
              "4                                      i am feel grouchy          1\n",
              "...                                                  ...        ...\n",
              "15995  i just have a very brief time in the beanbag a...          3\n",
              "15996  i am now turn and i feel pathetic that i am st...          3\n",
              "15997                     i feel strong and good overall          0\n",
              "15998  i feel like this was such a rude comment and i...          1\n",
              "15999  i know a lot but i feel so stupid because i ca...          3\n",
              "\n",
              "[16000 rows x 2 columns]"
            ]
          },
          "metadata": {
            "tags": []
          },
          "execution_count": 13
        }
      ]
    },
    {
      "cell_type": "markdown",
      "metadata": {
        "id": "6r6a1SDWJCiU"
      },
      "source": [
        "# Tokenizer to convert text to word vector"
      ]
    },
    {
      "cell_type": "code",
      "metadata": {
        "id": "vTLVItNaJCiV"
      },
      "source": [
        "from keras.preprocessing.text import Tokenizer"
      ],
      "execution_count": 15,
      "outputs": []
    },
    {
      "cell_type": "code",
      "metadata": {
        "id": "_RRYVCbTJCiV"
      },
      "source": [
        "num_words = 10000\n",
        "tokenizer=Tokenizer(num_words,lower=True)\n",
        "data_total = pd.concat([data_train['Input'], data_test.Input], axis = 0)\n",
        "tokenizer.fit_on_texts(data_total)"
      ],
      "execution_count": 16,
      "outputs": []
    },
    {
      "cell_type": "code",
      "metadata": {
        "colab": {
          "base_uri": "https://localhost:8080/"
        },
        "id": "McTfkt1MJCiW",
        "outputId": "7a064fd3-0c59-4447-8223-5a43e937d379"
      },
      "source": [
        "len(tokenizer.word_index)"
      ],
      "execution_count": 17,
      "outputs": [
        {
          "output_type": "execute_result",
          "data": {
            "text/plain": [
              "13946"
            ]
          },
          "metadata": {
            "tags": []
          },
          "execution_count": 17
        }
      ]
    },
    {
      "cell_type": "code",
      "metadata": {
        "id": "7tetm1xIJCiW"
      },
      "source": [
        "from keras.preprocessing.sequence import pad_sequences\n",
        "\n",
        "X_train=tokenizer.texts_to_sequences(data_train['Input'])\n",
        "X_train_pad=pad_sequences(X_train,maxlen=300,padding='post')\n",
        "X_test = tokenizer.texts_to_sequences(data_test.Input)\n",
        "X_test_pad = pad_sequences(X_test, maxlen = 300, padding = 'post')\n",
        "X_val = tokenizer.texts_to_sequences(data_val.Input)\n",
        "X_val_pad = pad_sequences(X_val, maxlen = 300, padding = 'post')"
      ],
      "execution_count": 18,
      "outputs": []
    },
    {
      "cell_type": "code",
      "metadata": {
        "id": "ZXCiJ24PJCiX"
      },
      "source": [
        "from keras.utils import to_categorical\n",
        "y_train = to_categorical(data_train.Sentiment.values)\n",
        "y_test = to_categorical(data_test.Sentiment.values)\n",
        "y_val = to_categorical(data_val.Sentiment.values)"
      ],
      "execution_count": 19,
      "outputs": []
    },
    {
      "cell_type": "code",
      "metadata": {
        "colab": {
          "base_uri": "https://localhost:8080/"
        },
        "id": "K0TRJVTKJCiX",
        "outputId": "5fe2b499-870e-42be-f339-cc450e2b86c8"
      },
      "source": [
        "print(X_train_pad.shape, X_val_pad.shape)"
      ],
      "execution_count": 20,
      "outputs": [
        {
          "output_type": "stream",
          "text": [
            "(16000, 300) (2000, 300)\n"
          ],
          "name": "stdout"
        }
      ]
    },
    {
      "cell_type": "code",
      "metadata": {
        "colab": {
          "base_uri": "https://localhost:8080/"
        },
        "id": "dyUJ7Gy9JCiY",
        "outputId": "0eeb896c-bb3b-485a-d4c4-d9d0ef6f5f5b"
      },
      "source": [
        "import gensim.downloader as gen\n",
        "glove_gensim  = gen.load('glove-wiki-gigaword-100') #100 dimension"
      ],
      "execution_count": 21,
      "outputs": [
        {
          "output_type": "stream",
          "text": [
            "[==================================================] 100.0% 128.1/128.1MB downloaded\n"
          ],
          "name": "stdout"
        }
      ]
    },
    {
      "cell_type": "code",
      "metadata": {
        "colab": {
          "base_uri": "https://localhost:8080/"
        },
        "id": "HWGvmRgPJCiY",
        "outputId": "72737cb8-e7fe-44b6-97d3-0785d0c54695"
      },
      "source": [
        "glove_gensim['king'].shape[0]"
      ],
      "execution_count": 22,
      "outputs": [
        {
          "output_type": "execute_result",
          "data": {
            "text/plain": [
              "100"
            ]
          },
          "metadata": {
            "tags": []
          },
          "execution_count": 22
        }
      ]
    },
    {
      "cell_type": "code",
      "metadata": {
        "colab": {
          "base_uri": "https://localhost:8080/"
        },
        "id": "U_UVQ9drJCiZ",
        "outputId": "4cfef068-574e-4754-9221-fb587f179385"
      },
      "source": [
        "vector_size = 100\n",
        "gensim_weight_matrix = np.zeros((num_words ,vector_size))\n",
        "gensim_weight_matrix.shape\n",
        "\n",
        "for word, index in tokenizer.word_index.items():\n",
        "    if index < num_words: # since index starts with zero \n",
        "        if word in glove_gensim.wv.vocab:\n",
        "            gensim_weight_matrix[index] = glove_gensim[word]\n",
        "        else:\n",
        "            gensim_weight_matrix[index] = np.zeros(100)"
      ],
      "execution_count": 23,
      "outputs": [
        {
          "output_type": "stream",
          "text": [
            "/usr/local/lib/python3.7/dist-packages/ipykernel_launcher.py:7: DeprecationWarning: Call to deprecated `wv` (Attribute will be removed in 4.0.0, use self instead).\n",
            "  import sys\n"
          ],
          "name": "stderr"
        }
      ]
    },
    {
      "cell_type": "code",
      "metadata": {
        "colab": {
          "base_uri": "https://localhost:8080/"
        },
        "id": "AoLxEGacJCia",
        "outputId": "b7f4244c-ad9e-435f-a29f-b0e491e2a7d2"
      },
      "source": [
        "gensim_weight_matrix.shape"
      ],
      "execution_count": 24,
      "outputs": [
        {
          "output_type": "execute_result",
          "data": {
            "text/plain": [
              "(10000, 100)"
            ]
          },
          "metadata": {
            "tags": []
          },
          "execution_count": 24
        }
      ]
    },
    {
      "cell_type": "code",
      "metadata": {
        "id": "lQvCirCHJCia"
      },
      "source": [
        "from tensorflow.keras.models import Sequential \n",
        "from tensorflow.keras.layers import Dense, LSTM, Embedding,Bidirectional\n",
        "import tensorflow\n",
        "from tensorflow.compat.v1.keras.layers import CuDNNLSTM,CuDNNGRU\n",
        "from tensorflow.keras.layers import Dropout"
      ],
      "execution_count": 25,
      "outputs": []
    },
    {
      "cell_type": "code",
      "metadata": {
        "id": "Hn2rrTjXJCib"
      },
      "source": [
        "EMBEDDING_DIM = 100 # this means the embedding layer will create  a vector in 100 dimension\n",
        "model = Sequential()\n",
        "model.add(Embedding(input_dim = num_words,# the whole vocabulary size \n",
        "                          output_dim = EMBEDDING_DIM, # vector space dimension\n",
        "                          input_length= X_train_pad.shape[1], # max_len of text sequence\n",
        "                          weights = [gensim_weight_matrix],trainable = False))\n",
        "model.add(Dropout(0.2))\n",
        "model.add(Bidirectional(CuDNNLSTM(100,return_sequences=True)))\n",
        "model.add(Dropout(0.2))\n",
        "model.add(Bidirectional(CuDNNLSTM(200,return_sequences=True)))\n",
        "model.add(Dropout(0.2))\n",
        "model.add(Bidirectional(CuDNNLSTM(100,return_sequences=False)))\n",
        "model.add(Dense(6, activation = 'softmax'))\n",
        "model.compile(loss = 'categorical_crossentropy', optimizer = 'adam',metrics = 'accuracy')"
      ],
      "execution_count": 26,
      "outputs": []
    },
    {
      "cell_type": "code",
      "metadata": {
        "id": "k5YUb4z_JCic"
      },
      "source": [
        "#EarlyStopping and ModelCheckpoint\n",
        "\n",
        "from keras.callbacks import EarlyStopping, ModelCheckpoint\n",
        "\n",
        "\n",
        "es = EarlyStopping(monitor = 'val_loss', mode = 'min', verbose = 1, patience = 5)\n",
        "mc = ModelCheckpoint('./model.h5', monitor = 'val_accuracy', mode = 'max', verbose = 1, save_best_only = True)"
      ],
      "execution_count": 27,
      "outputs": []
    },
    {
      "cell_type": "code",
      "metadata": {
        "colab": {
          "base_uri": "https://localhost:8080/"
        },
        "id": "Ory2o_oZJCic",
        "outputId": "6c4ab5e5-8daa-4e9a-f684-0d4357b73048"
      },
      "source": [
        "history_embedding = model.fit(X_train_pad,y_train, epochs = 25, batch_size = 120, validation_data=(X_val_pad, y_val),verbose = 1, callbacks= [es, mc]  )\n"
      ],
      "execution_count": 28,
      "outputs": [
        {
          "output_type": "stream",
          "text": [
            "Epoch 1/25\n",
            "134/134 [==============================] - 61s 194ms/step - loss: 1.5245 - accuracy: 0.3895 - val_loss: 1.1825 - val_accuracy: 0.5600\n",
            "\n",
            "Epoch 00001: val_accuracy improved from -inf to 0.56000, saving model to ./model.h5\n",
            "Epoch 2/25\n",
            "134/134 [==============================] - 25s 186ms/step - loss: 1.1817 - accuracy: 0.5596 - val_loss: 0.8425 - val_accuracy: 0.6890\n",
            "\n",
            "Epoch 00002: val_accuracy improved from 0.56000 to 0.68900, saving model to ./model.h5\n",
            "Epoch 3/25\n",
            "134/134 [==============================] - 25s 189ms/step - loss: 0.8876 - accuracy: 0.6780 - val_loss: 0.6061 - val_accuracy: 0.7770\n",
            "\n",
            "Epoch 00003: val_accuracy improved from 0.68900 to 0.77700, saving model to ./model.h5\n",
            "Epoch 4/25\n",
            "134/134 [==============================] - 25s 189ms/step - loss: 0.7196 - accuracy: 0.7327 - val_loss: 0.4759 - val_accuracy: 0.8290\n",
            "\n",
            "Epoch 00004: val_accuracy improved from 0.77700 to 0.82900, saving model to ./model.h5\n",
            "Epoch 5/25\n",
            "134/134 [==============================] - 26s 191ms/step - loss: 0.5825 - accuracy: 0.7846 - val_loss: 0.3775 - val_accuracy: 0.8610\n",
            "\n",
            "Epoch 00005: val_accuracy improved from 0.82900 to 0.86100, saving model to ./model.h5\n",
            "Epoch 6/25\n",
            "134/134 [==============================] - 26s 192ms/step - loss: 0.5006 - accuracy: 0.8172 - val_loss: 0.3303 - val_accuracy: 0.8800\n",
            "\n",
            "Epoch 00006: val_accuracy improved from 0.86100 to 0.88000, saving model to ./model.h5\n",
            "Epoch 7/25\n",
            "134/134 [==============================] - 26s 194ms/step - loss: 0.4083 - accuracy: 0.8469 - val_loss: 0.3091 - val_accuracy: 0.8795\n",
            "\n",
            "Epoch 00007: val_accuracy did not improve from 0.88000\n",
            "Epoch 8/25\n",
            "134/134 [==============================] - 26s 192ms/step - loss: 0.3627 - accuracy: 0.8562 - val_loss: 0.2819 - val_accuracy: 0.8910\n",
            "\n",
            "Epoch 00008: val_accuracy improved from 0.88000 to 0.89100, saving model to ./model.h5\n",
            "Epoch 9/25\n",
            "134/134 [==============================] - 26s 194ms/step - loss: 0.3058 - accuracy: 0.8813 - val_loss: 0.2464 - val_accuracy: 0.8995\n",
            "\n",
            "Epoch 00009: val_accuracy improved from 0.89100 to 0.89950, saving model to ./model.h5\n",
            "Epoch 10/25\n",
            "134/134 [==============================] - 26s 195ms/step - loss: 0.2935 - accuracy: 0.8866 - val_loss: 0.2436 - val_accuracy: 0.9060\n",
            "\n",
            "Epoch 00010: val_accuracy improved from 0.89950 to 0.90600, saving model to ./model.h5\n",
            "Epoch 11/25\n",
            "134/134 [==============================] - 26s 196ms/step - loss: 0.2565 - accuracy: 0.8979 - val_loss: 0.2315 - val_accuracy: 0.9020\n",
            "\n",
            "Epoch 00011: val_accuracy did not improve from 0.90600\n",
            "Epoch 12/25\n",
            "134/134 [==============================] - 26s 194ms/step - loss: 0.2380 - accuracy: 0.9041 - val_loss: 0.2383 - val_accuracy: 0.9070\n",
            "\n",
            "Epoch 00012: val_accuracy improved from 0.90600 to 0.90700, saving model to ./model.h5\n",
            "Epoch 13/25\n",
            "134/134 [==============================] - 26s 194ms/step - loss: 0.2277 - accuracy: 0.9102 - val_loss: 0.2281 - val_accuracy: 0.9035\n",
            "\n",
            "Epoch 00013: val_accuracy did not improve from 0.90700\n",
            "Epoch 14/25\n",
            "134/134 [==============================] - 26s 196ms/step - loss: 0.1976 - accuracy: 0.9152 - val_loss: 0.2239 - val_accuracy: 0.9090\n",
            "\n",
            "Epoch 00014: val_accuracy improved from 0.90700 to 0.90900, saving model to ./model.h5\n",
            "Epoch 15/25\n",
            "134/134 [==============================] - 26s 196ms/step - loss: 0.2004 - accuracy: 0.9167 - val_loss: 0.2070 - val_accuracy: 0.9175\n",
            "\n",
            "Epoch 00015: val_accuracy improved from 0.90900 to 0.91750, saving model to ./model.h5\n",
            "Epoch 16/25\n",
            "134/134 [==============================] - 26s 193ms/step - loss: 0.1866 - accuracy: 0.9237 - val_loss: 0.2128 - val_accuracy: 0.9135\n",
            "\n",
            "Epoch 00016: val_accuracy did not improve from 0.91750\n",
            "Epoch 17/25\n",
            "134/134 [==============================] - 26s 194ms/step - loss: 0.1678 - accuracy: 0.9279 - val_loss: 0.2184 - val_accuracy: 0.9155\n",
            "\n",
            "Epoch 00017: val_accuracy did not improve from 0.91750\n",
            "Epoch 18/25\n",
            "134/134 [==============================] - 26s 195ms/step - loss: 0.1536 - accuracy: 0.9334 - val_loss: 0.2236 - val_accuracy: 0.9095\n",
            "\n",
            "Epoch 00018: val_accuracy did not improve from 0.91750\n",
            "Epoch 19/25\n",
            "134/134 [==============================] - 26s 195ms/step - loss: 0.1582 - accuracy: 0.9337 - val_loss: 0.2079 - val_accuracy: 0.9160\n",
            "\n",
            "Epoch 00019: val_accuracy did not improve from 0.91750\n",
            "Epoch 20/25\n",
            "134/134 [==============================] - 26s 193ms/step - loss: 0.1539 - accuracy: 0.9350 - val_loss: 0.2068 - val_accuracy: 0.9205\n",
            "\n",
            "Epoch 00020: val_accuracy improved from 0.91750 to 0.92050, saving model to ./model.h5\n",
            "Epoch 21/25\n",
            "134/134 [==============================] - 26s 194ms/step - loss: 0.1401 - accuracy: 0.9412 - val_loss: 0.2137 - val_accuracy: 0.9180\n",
            "\n",
            "Epoch 00021: val_accuracy did not improve from 0.92050\n",
            "Epoch 22/25\n",
            "134/134 [==============================] - 26s 195ms/step - loss: 0.1342 - accuracy: 0.9438 - val_loss: 0.2107 - val_accuracy: 0.9110\n",
            "\n",
            "Epoch 00022: val_accuracy did not improve from 0.92050\n",
            "Epoch 23/25\n",
            "134/134 [==============================] - 26s 195ms/step - loss: 0.1286 - accuracy: 0.9446 - val_loss: 0.2191 - val_accuracy: 0.9135\n",
            "\n",
            "Epoch 00023: val_accuracy did not improve from 0.92050\n",
            "Epoch 24/25\n",
            "134/134 [==============================] - 26s 193ms/step - loss: 0.1357 - accuracy: 0.9396 - val_loss: 0.2287 - val_accuracy: 0.9120\n",
            "\n",
            "Epoch 00024: val_accuracy did not improve from 0.92050\n",
            "Epoch 25/25\n",
            "134/134 [==============================] - 26s 194ms/step - loss: 0.1202 - accuracy: 0.9477 - val_loss: 0.2149 - val_accuracy: 0.9150\n",
            "\n",
            "Epoch 00025: val_accuracy did not improve from 0.92050\n",
            "Epoch 00025: early stopping\n"
          ],
          "name": "stdout"
        }
      ]
    },
    {
      "cell_type": "code",
      "metadata": {
        "colab": {
          "base_uri": "https://localhost:8080/",
          "height": 265
        },
        "id": "5ayFB3NSJCid",
        "outputId": "02fa29e1-5cfc-40cb-c571-cc4312b41ba9"
      },
      "source": [
        "import matplotlib.pyplot as plt\n",
        "plt.plot(history_embedding.history['accuracy'],c='b',label='train accuracy')\n",
        "plt.plot(history_embedding.history['val_accuracy'],c='r',label='validation accuracy')\n",
        "plt.legend(loc='lower right')\n",
        "plt.show()"
      ],
      "execution_count": 30,
      "outputs": [
        {
          "output_type": "display_data",
          "data": {
            "image/png": "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\n",
            "text/plain": [
              "<Figure size 432x288 with 1 Axes>"
            ]
          },
          "metadata": {
            "tags": [],
            "needs_background": "light"
          }
        }
      ]
    },
    {
      "cell_type": "code",
      "metadata": {
        "colab": {
          "base_uri": "https://localhost:8080/"
        },
        "id": "Xu90eq5bRg3L",
        "outputId": "bc96ad93-5752-4d45-8ff6-4dd9a88eb6a4"
      },
      "source": [
        "model.evaluate(X_test_pad, y_test)"
      ],
      "execution_count": 31,
      "outputs": [
        {
          "output_type": "stream",
          "text": [
            "63/63 [==============================] - 3s 36ms/step - loss: 0.2260 - accuracy: 0.9100\n"
          ],
          "name": "stdout"
        },
        {
          "output_type": "execute_result",
          "data": {
            "text/plain": [
              "[0.22601370513439178, 0.9100000262260437]"
            ]
          },
          "metadata": {
            "tags": []
          },
          "execution_count": 31
        }
      ]
    },
    {
      "cell_type": "code",
      "metadata": {
        "id": "9fdLjlhFRx77"
      },
      "source": [
        "y_pred =   np.argmax(model.predict(X_test_pad), axis  =  1)\n",
        "y_true = np.argmax(y_test, axis = 1)"
      ],
      "execution_count": 33,
      "outputs": []
    },
    {
      "cell_type": "code",
      "metadata": {
        "colab": {
          "base_uri": "https://localhost:8080/"
        },
        "id": "0bALI7K1R2Yn",
        "outputId": "7ac24dea-4350-43bc-bd13-0260f71a68ac"
      },
      "source": [
        "from sklearn import metrics\n",
        "print(metrics.classification_report(y_pred, y_true))"
      ],
      "execution_count": 34,
      "outputs": [
        {
          "output_type": "stream",
          "text": [
            "              precision    recall  f1-score   support\n",
            "\n",
            "           0       0.94      0.92      0.93       709\n",
            "           1       0.92      0.91      0.92       278\n",
            "           2       0.77      0.80      0.79       154\n",
            "           3       0.93      0.95      0.94       569\n",
            "           4       0.85      0.91      0.88       209\n",
            "           5       0.86      0.70      0.78        81\n",
            "\n",
            "    accuracy                           0.91      2000\n",
            "   macro avg       0.88      0.87      0.87      2000\n",
            "weighted avg       0.91      0.91      0.91      2000\n",
            "\n"
          ],
          "name": "stdout"
        }
      ]
    },
    {
      "cell_type": "code",
      "metadata": {
        "id": "MPpAVq1vR_2K"
      },
      "source": [
        ""
      ],
      "execution_count": null,
      "outputs": []
    }
  ]
}
