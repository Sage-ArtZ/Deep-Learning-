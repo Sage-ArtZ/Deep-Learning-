{
 "cells": [
  {
   "cell_type": "code",
   "execution_count": 1,
   "metadata": {},
   "outputs": [],
   "source": [
    "import numpy as np # linear algebra\n",
    "import pandas as pd # data processing, CSV file I/O (e.g. pd.read_csv)\n",
    "import matplotlib.pyplot as plt\n",
    "import seaborn as sns"
   ]
  },
  {
   "cell_type": "code",
   "execution_count": 4,
   "metadata": {},
   "outputs": [
    {
     "name": "stdout",
     "output_type": "stream",
     "text": [
      "<class 'pandas.core.frame.DataFrame'>\n",
      "RangeIndex: 4116 entries, 0 to 4115\n",
      "Data columns (total 19 columns):\n",
      " #   Column       Non-Null Count  Dtype  \n",
      "---  ------       --------------  -----  \n",
      " 0   SUBDIVISION  4116 non-null   object \n",
      " 1   YEAR         4116 non-null   int64  \n",
      " 2   JAN          4116 non-null   float64\n",
      " 3   FEB          4116 non-null   float64\n",
      " 4   MAR          4116 non-null   float64\n",
      " 5   APR          4116 non-null   float64\n",
      " 6   MAY          4116 non-null   float64\n",
      " 7   JUN          4116 non-null   float64\n",
      " 8   JUL          4116 non-null   float64\n",
      " 9   AUG          4116 non-null   float64\n",
      " 10  SEP          4116 non-null   float64\n",
      " 11  OCT          4116 non-null   float64\n",
      " 12  NOV          4116 non-null   float64\n",
      " 13  DEC          4116 non-null   float64\n",
      " 14  ANNUAL       4116 non-null   float64\n",
      " 15  Jan-Feb      4116 non-null   float64\n",
      " 16  Mar-May      4116 non-null   float64\n",
      " 17  Jun-Sep      4116 non-null   float64\n",
      " 18  Oct-Dec      4116 non-null   float64\n",
      "dtypes: float64(17), int64(1), object(1)\n",
      "memory usage: 611.1+ KB\n"
     ]
    }
   ],
   "source": [
    "data = pd.read_csv('rainfall.csv',encoding = \"ISO-8859-1\")\n",
    "data = data.fillna(data.mean())\n",
    "data.info()"
   ]
  },
  {
   "cell_type": "code",
   "execution_count": 7,
   "metadata": {},
   "outputs": [],
   "source": [
    "from sklearn.model_selection import train_test_split\n",
    "from sklearn.metrics import mean_absolute_error\n",
    "\n",
    "division_data = np.asarray(data[['JAN', 'FEB', 'MAR', 'APR', 'MAY', 'JUN', 'JUL',\n",
    "       'AUG', 'SEP', 'OCT', 'NOV', 'DEC']])\n",
    "\n",
    "X = None; y = None\n",
    "for i in range(division_data.shape[1]-3):\n",
    "    if X is None:\n",
    "        X = division_data[:, i:i+3]\n",
    "        y = division_data[:, i+3]\n",
    "    else:\n",
    "        X = np.concatenate((X, division_data[:, i:i+3]), axis=0)\n",
    "        y = np.concatenate((y, division_data[:, i+3]), axis=0)\n",
    "        \n",
    "X_train, X_test, y_train, y_test = train_test_split(X, y, test_size=0.1, random_state=42)"
   ]
  },
  {
   "cell_type": "code",
   "execution_count": 12,
   "metadata": {},
   "outputs": [
    {
     "name": "stdout",
     "output_type": "stream",
     "text": [
      "96.32435229744083\n"
     ]
    }
   ],
   "source": [
    "from sklearn import linear_model\n",
    "\n",
    "# linear model\n",
    "reg = linear_model.ElasticNet(alpha=0.5)\n",
    "reg.fit(X_train, y_train)\n",
    "y_pred = reg.predict(X_test)\n",
    "print(mean_absolute_error(y_test, y_pred))"
   ]
  },
  {
   "cell_type": "code",
   "execution_count": 17,
   "metadata": {},
   "outputs": [],
   "source": [
    "temp = data[['SUBDIVISION','JAN', 'FEB', 'MAR', 'APR', 'MAY', 'JUN', 'JUL',\n",
    "       'AUG', 'SEP', 'OCT', 'NOV', 'DEC']].loc[data['YEAR'] == 2010]\n",
    "\n",
    "data_2010 = np.asarray(temp[['JAN', 'FEB', 'MAR', 'APR', 'MAY', 'JUN', 'JUL',\n",
    "       'AUG', 'SEP', 'OCT', 'NOV', 'DEC']].loc[temp['SUBDIVISION'] == 'EAST UTTAR PRADESH'])\n",
    "\n",
    "X_year_2010 = None; y_year_2010 = None\n",
    "for i in range(data_2010.shape[1]-3):\n",
    "    if X_year_2010 is None:\n",
    "        X_year_2010 = data_2010[:, i:i+3]\n",
    "        y_year_2010 = data_2010[:, i+3]\n",
    "    else:\n",
    "        X_year_2010 = np.concatenate((X_year_2010, data_2010[:, i:i+3]), axis=0)\n",
    "        y_year_2010 = np.concatenate((y_year_2010, data_2010[:, i+3]), axis=0)"
   ]
  },
  {
   "cell_type": "code",
   "execution_count": 20,
   "metadata": {},
   "outputs": [
    {
     "name": "stdout",
     "output_type": "stream",
     "text": [
      "MEAN 2010\n",
      "75.54444444444444 111.26463791989009\n",
      "Standard deviation 2010\n",
      "93.74364702754364 68.93120566640081\n"
     ]
    }
   ],
   "source": [
    "y_year_pred_2010 = reg.predict(X_year_2010)\n",
    "print(\"MEAN 2010\")\n",
    "print(np.mean(y_year_2010),np.mean(y_year_pred_2010))\n",
    "print(\"Standard deviation 2010\")\n",
    "print(np.sqrt(np.var(y_year_2010)),np.sqrt(np.var(y_year_pred_2010)))"
   ]
  },
  {
   "cell_type": "code",
   "execution_count": 18,
   "metadata": {},
   "outputs": [
    {
     "name": "stdout",
     "output_type": "stream",
     "text": [
      "Model: \"model_3\"\n",
      "_________________________________________________________________\n",
      "Layer (type)                 Output Shape              Param #   \n",
      "=================================================================\n",
      "input_4 (InputLayer)         [(None, 3, 1)]            0         \n",
      "_________________________________________________________________\n",
      "conv1d_6 (Conv1D)            (None, 3, 64)             192       \n",
      "_________________________________________________________________\n",
      "conv1d_7 (Conv1D)            (None, 3, 128)            16512     \n",
      "_________________________________________________________________\n",
      "flatten_3 (Flatten)          (None, 384)               0         \n",
      "_________________________________________________________________\n",
      "dense_12 (Dense)             (None, 128)               49280     \n",
      "_________________________________________________________________\n",
      "dense_13 (Dense)             (None, 64)                8256      \n",
      "_________________________________________________________________\n",
      "dense_14 (Dense)             (None, 32)                2080      \n",
      "_________________________________________________________________\n",
      "dense_15 (Dense)             (None, 1)                 33        \n",
      "=================================================================\n",
      "Total params: 76,353\n",
      "Trainable params: 76,353\n",
      "Non-trainable params: 0\n",
      "_________________________________________________________________\n"
     ]
    }
   ],
   "source": [
    "from keras.models import Model\n",
    "from keras.layers import Dense, Input, Conv1D, Flatten\n",
    "\n",
    "# NN model\n",
    "inputs = Input(shape=(3,1))\n",
    "x = Conv1D(64, 2, padding='same', activation='elu')(inputs)\n",
    "x = Conv1D(128, 2, padding='same', activation='elu')(x)\n",
    "x = Flatten()(x)\n",
    "x = Dense(128, activation='elu')(x)\n",
    "x = Dense(64, activation='elu')(x)\n",
    "x = Dense(32, activation='elu')(x)\n",
    "x = Dense(1, activation='linear')(x)\n",
    "model = Model(inputs=[inputs], outputs=[x])\n",
    "model.compile(loss='mean_squared_error', optimizer='adamax', metrics=['mae'])\n",
    "model.summary()"
   ]
  },
  {
   "cell_type": "code",
   "execution_count": 15,
   "metadata": {},
   "outputs": [
    {
     "name": "stdout",
     "output_type": "stream",
     "text": [
      "Epoch 1/10\n",
      "469/469 [==============================] - 3s 6ms/step - loss: 19908.0586 - mae: 87.8317 - val_loss: 17671.4004 - val_mae: 86.0953\n",
      "Epoch 2/10\n",
      "469/469 [==============================] - 2s 5ms/step - loss: 18551.7578 - mae: 86.4962 - val_loss: 17615.6895 - val_mae: 86.4607\n",
      "Epoch 3/10\n",
      "469/469 [==============================] - 2s 5ms/step - loss: 18446.7754 - mae: 86.2838 - val_loss: 17415.4277 - val_mae: 85.5777\n",
      "Epoch 4/10\n",
      "469/469 [==============================] - 3s 6ms/step - loss: 18327.2871 - mae: 85.9130 - val_loss: 17277.1445 - val_mae: 84.6595\n",
      "Epoch 5/10\n",
      "469/469 [==============================] - 2s 5ms/step - loss: 18247.8008 - mae: 85.8416 - val_loss: 17853.7539 - val_mae: 88.2415\n",
      "Epoch 6/10\n",
      "469/469 [==============================] - 2s 4ms/step - loss: 18190.1250 - mae: 85.5783 - val_loss: 17225.7930 - val_mae: 84.6343\n",
      "Epoch 7/10\n",
      "469/469 [==============================] - 2s 5ms/step - loss: 18221.1465 - mae: 85.5590 - val_loss: 17375.9707 - val_mae: 85.3204\n",
      "Epoch 8/10\n",
      "469/469 [==============================] - 2s 4ms/step - loss: 18159.6152 - mae: 85.4727 - val_loss: 17467.5078 - val_mae: 87.0472\n",
      "Epoch 9/10\n",
      "469/469 [==============================] - 2s 4ms/step - loss: 18117.3496 - mae: 85.2970 - val_loss: 17421.3457 - val_mae: 87.5479\n",
      "Epoch 10/10\n",
      "469/469 [==============================] - 2s 4ms/step - loss: 18085.7559 - mae: 85.2425 - val_loss: 17188.7715 - val_mae: 82.2897\n",
      "85.20201860314432\n"
     ]
    }
   ],
   "source": [
    "model.fit(x=np.expand_dims(X_train, axis=2), y=y_train, batch_size=64, epochs=10, verbose=1, validation_split=0.1, shuffle=True)\n",
    "y_pred = model.predict(np.expand_dims(X_test, axis=2))\n",
    "print(mean_absolute_error(y_test, y_pred))"
   ]
  },
  {
   "cell_type": "code",
   "execution_count": null,
   "metadata": {},
   "outputs": [],
   "source": []
  }
 ],
 "metadata": {
  "kernelspec": {
   "display_name": "Python 3",
   "language": "python",
   "name": "python3"
  },
  "language_info": {
   "codemirror_mode": {
    "name": "ipython",
    "version": 3
   },
   "file_extension": ".py",
   "mimetype": "text/x-python",
   "name": "python",
   "nbconvert_exporter": "python",
   "pygments_lexer": "ipython3",
   "version": "3.8.3"
  }
 },
 "nbformat": 4,
 "nbformat_minor": 4
}
